{
 "cells": [
  {
   "cell_type": "markdown",
   "id": "e75cf729-17b6-45b0-815c-10545170f0b4",
   "metadata": {},
   "source": [
    "# Advent of Code"
   ]
  },
  {
   "cell_type": "markdown",
   "id": "cbac2363-bf7a-480b-8d89-999da7d78ec7",
   "metadata": {},
   "source": [
    "## Day 1 - Part 1"
   ]
  },
  {
   "cell_type": "code",
   "execution_count": 2,
   "id": "60ca8d4b-afbd-4b41-9bcd-61121fe23aaa",
   "metadata": {},
   "outputs": [],
   "source": [
    "import pandas as pd"
   ]
  },
  {
   "cell_type": "code",
   "execution_count": 8,
   "id": "4be06970-c94a-4c85-a6fe-a2e6cf6a8b06",
   "metadata": {},
   "outputs": [],
   "source": [
    "# read in input data\n",
    "df = pd.read_clipboard(squeeze=True, header=None).rename('raw').reset_index()"
   ]
  },
  {
   "cell_type": "code",
   "execution_count": 9,
   "id": "4d772be3-2409-46e3-ba9e-22edf82072af",
   "metadata": {},
   "outputs": [
    {
     "data": {
      "text/html": [
       "<div>\n",
       "<style scoped>\n",
       "    .dataframe tbody tr th:only-of-type {\n",
       "        vertical-align: middle;\n",
       "    }\n",
       "\n",
       "    .dataframe tbody tr th {\n",
       "        vertical-align: top;\n",
       "    }\n",
       "\n",
       "    .dataframe thead th {\n",
       "        text-align: right;\n",
       "    }\n",
       "</style>\n",
       "<table border=\"1\" class=\"dataframe\">\n",
       "  <thead>\n",
       "    <tr style=\"text-align: right;\">\n",
       "      <th></th>\n",
       "      <th>index</th>\n",
       "      <th>raw</th>\n",
       "    </tr>\n",
       "  </thead>\n",
       "  <tbody>\n",
       "    <tr>\n",
       "      <th>0</th>\n",
       "      <td>0</td>\n",
       "      <td>ckmb52fldxkseven3fkjgcbzmnr7</td>\n",
       "    </tr>\n",
       "    <tr>\n",
       "      <th>1</th>\n",
       "      <td>1</td>\n",
       "      <td>gckhqpb6twoqnjxqplthree2fourkspnsnzxlz1</td>\n",
       "    </tr>\n",
       "    <tr>\n",
       "      <th>2</th>\n",
       "      <td>2</td>\n",
       "      <td>2onetwocrgbqm7</td>\n",
       "    </tr>\n",
       "    <tr>\n",
       "      <th>3</th>\n",
       "      <td>3</td>\n",
       "      <td>frkh2nineqmqxrvdsevenfive</td>\n",
       "    </tr>\n",
       "    <tr>\n",
       "      <th>4</th>\n",
       "      <td>4</td>\n",
       "      <td>four9two</td>\n",
       "    </tr>\n",
       "    <tr>\n",
       "      <th>...</th>\n",
       "      <td>...</td>\n",
       "      <td>...</td>\n",
       "    </tr>\n",
       "    <tr>\n",
       "      <th>995</th>\n",
       "      <td>995</td>\n",
       "      <td>5ppflb48tkcffone8six</td>\n",
       "    </tr>\n",
       "    <tr>\n",
       "      <th>996</th>\n",
       "      <td>996</td>\n",
       "      <td>five2two7hstbbqzrninegbtwo2</td>\n",
       "    </tr>\n",
       "    <tr>\n",
       "      <th>997</th>\n",
       "      <td>997</td>\n",
       "      <td>eightfblzpmhs4</td>\n",
       "    </tr>\n",
       "    <tr>\n",
       "      <th>998</th>\n",
       "      <td>998</td>\n",
       "      <td>fbbdeightzzsdffh8jbjzxkclj</td>\n",
       "    </tr>\n",
       "    <tr>\n",
       "      <th>999</th>\n",
       "      <td>999</td>\n",
       "      <td>3nine6five1</td>\n",
       "    </tr>\n",
       "  </tbody>\n",
       "</table>\n",
       "<p>1000 rows × 2 columns</p>\n",
       "</div>"
      ],
      "text/plain": [
       "     index                                      raw\n",
       "0        0             ckmb52fldxkseven3fkjgcbzmnr7\n",
       "1        1  gckhqpb6twoqnjxqplthree2fourkspnsnzxlz1\n",
       "2        2                           2onetwocrgbqm7\n",
       "3        3                frkh2nineqmqxrvdsevenfive\n",
       "4        4                                 four9two\n",
       "..     ...                                      ...\n",
       "995    995                     5ppflb48tkcffone8six\n",
       "996    996              five2two7hstbbqzrninegbtwo2\n",
       "997    997                           eightfblzpmhs4\n",
       "998    998               fbbdeightzzsdffh8jbjzxkclj\n",
       "999    999                              3nine6five1\n",
       "\n",
       "[1000 rows x 2 columns]"
      ]
     },
     "execution_count": 9,
     "metadata": {},
     "output_type": "execute_result"
    }
   ],
   "source": [
    "df"
   ]
  },
  {
   "cell_type": "code",
   "execution_count": 134,
   "id": "c78e0b31-4dc9-4986-b97a-313a66082bfb",
   "metadata": {},
   "outputs": [],
   "source": [
    "# create function to identify numbers\n",
    "def find_numbers(string):\n",
    "    mod_string = []\n",
    "\n",
    "    for char in string:\n",
    "        if char.isnumeric():\n",
    "            mod_string.append((char, string.index(char)))\n",
    "            \n",
    "    return mod_string\n",
    "            "
   ]
  },
  {
   "cell_type": "code",
   "execution_count": 135,
   "id": "593b05c1-21a3-4adf-a289-c8a977f417ce",
   "metadata": {},
   "outputs": [],
   "source": [
    "# apply function to df column of raw test\n",
    "df['numbers'] = df.raw.apply(find_numbers)"
   ]
  },
  {
   "cell_type": "code",
   "execution_count": 104,
   "id": "7f616edb-66d9-4023-aefd-b27d0e0987ac",
   "metadata": {},
   "outputs": [],
   "source": [
    "# select only the first and last digits\n",
    "def first_and_last(_list):\n",
    "    mod_list = ''\n",
    "    if len(_list) > 1:\n",
    "        # grab only the first and last\n",
    "        mod_list += str(_list[0])\n",
    "        mod_list += str(_list[-1])\n",
    "    \n",
    "    else:\n",
    "        # duplicate single digit\n",
    "        mod_list = str(_list[0] *2)\n",
    "    \n",
    "    return mod_list\n",
    "        "
   ]
  },
  {
   "cell_type": "code",
   "execution_count": 105,
   "id": "0e5e1be8-c667-4cf3-b43c-45b73beb9885",
   "metadata": {},
   "outputs": [],
   "source": [
    "# apply function to df column of raw test\n",
    "df['added'] = df.numbers.apply(first_and_last)"
   ]
  },
  {
   "cell_type": "code",
   "execution_count": 136,
   "id": "b8d141c8-d124-4466-b6fa-7d1487619aa4",
   "metadata": {},
   "outputs": [
    {
     "data": {
      "text/html": [
       "<div>\n",
       "<style scoped>\n",
       "    .dataframe tbody tr th:only-of-type {\n",
       "        vertical-align: middle;\n",
       "    }\n",
       "\n",
       "    .dataframe tbody tr th {\n",
       "        vertical-align: top;\n",
       "    }\n",
       "\n",
       "    .dataframe thead th {\n",
       "        text-align: right;\n",
       "    }\n",
       "</style>\n",
       "<table border=\"1\" class=\"dataframe\">\n",
       "  <thead>\n",
       "    <tr style=\"text-align: right;\">\n",
       "      <th></th>\n",
       "      <th>index</th>\n",
       "      <th>raw</th>\n",
       "      <th>numbers</th>\n",
       "      <th>added</th>\n",
       "    </tr>\n",
       "  </thead>\n",
       "  <tbody>\n",
       "    <tr>\n",
       "      <th>0</th>\n",
       "      <td>0</td>\n",
       "      <td>ckmb52fldxkseven3fkjgcbzmnr7</td>\n",
       "      <td>[(5, 4), (2, 5), (3, 16), (7, 27)]</td>\n",
       "      <td>57</td>\n",
       "    </tr>\n",
       "    <tr>\n",
       "      <th>1</th>\n",
       "      <td>1</td>\n",
       "      <td>gckhqpb6twoqnjxqplthree2fourkspnsnzxlz1</td>\n",
       "      <td>[(6, 7), (2, 23), (1, 38)]</td>\n",
       "      <td>61</td>\n",
       "    </tr>\n",
       "    <tr>\n",
       "      <th>2</th>\n",
       "      <td>2</td>\n",
       "      <td>2onetwocrgbqm7</td>\n",
       "      <td>[(2, 0), (7, 13)]</td>\n",
       "      <td>27</td>\n",
       "    </tr>\n",
       "    <tr>\n",
       "      <th>3</th>\n",
       "      <td>3</td>\n",
       "      <td>frkh2nineqmqxrvdsevenfive</td>\n",
       "      <td>[(2, 4)]</td>\n",
       "      <td>22</td>\n",
       "    </tr>\n",
       "    <tr>\n",
       "      <th>4</th>\n",
       "      <td>4</td>\n",
       "      <td>four9two</td>\n",
       "      <td>[(9, 4)]</td>\n",
       "      <td>99</td>\n",
       "    </tr>\n",
       "  </tbody>\n",
       "</table>\n",
       "</div>"
      ],
      "text/plain": [
       "   index                                      raw  \\\n",
       "0      0             ckmb52fldxkseven3fkjgcbzmnr7   \n",
       "1      1  gckhqpb6twoqnjxqplthree2fourkspnsnzxlz1   \n",
       "2      2                           2onetwocrgbqm7   \n",
       "3      3                frkh2nineqmqxrvdsevenfive   \n",
       "4      4                                 four9two   \n",
       "\n",
       "                              numbers added  \n",
       "0  [(5, 4), (2, 5), (3, 16), (7, 27)]    57  \n",
       "1          [(6, 7), (2, 23), (1, 38)]    61  \n",
       "2                   [(2, 0), (7, 13)]    27  \n",
       "3                            [(2, 4)]    22  \n",
       "4                            [(9, 4)]    99  "
      ]
     },
     "execution_count": 136,
     "metadata": {},
     "output_type": "execute_result"
    }
   ],
   "source": [
    "df.head()"
   ]
  },
  {
   "cell_type": "code",
   "execution_count": null,
   "id": "24491b32-6e0a-4492-900a-8cf9d397ac06",
   "metadata": {},
   "outputs": [
    {
     "data": {
      "text/plain": [
       "53386"
      ]
     },
     "execution_count": 109,
     "metadata": {},
     "output_type": "execute_result"
    }
   ],
   "source": [
    "df.added.astype(int).sum()"
   ]
  },
  {
   "cell_type": "markdown",
   "id": "e3359ef3-e185-46f3-a4d5-00d854367262",
   "metadata": {},
   "source": [
    "## ✅"
   ]
  },
  {
   "cell_type": "markdown",
   "id": "199c3884-e085-4e61-87bb-c0fe45aaffab",
   "metadata": {
    "tags": []
   },
   "source": [
    "## Day 1 - Part 2\n",
    "\n",
    "rather than just finding numeric digits, need to also find text digits and identify their placement in the string\n",
    "\n",
    "rather than working from a dataframe as I did for the first part, instead I'm just work from a list for this portion"
   ]
  },
  {
   "cell_type": "code",
   "execution_count": 113,
   "id": "f329c52e-70a9-4e85-a885-23b2e5bba660",
   "metadata": {},
   "outputs": [],
   "source": [
    "# create dictionary to map numeric string\n",
    "# values to numeric values\n",
    "numbers_dict = {'one': 1, \n",
    " 'two': 2, \n",
    " 'three': 3, \n",
    " 'four': 4, \n",
    " 'five': 5, \n",
    " 'six': 6, \n",
    " 'seven': 7, \n",
    " 'eight': 8, \n",
    " 'nine': 9}"
   ]
  },
  {
   "cell_type": "code",
   "execution_count": 56,
   "id": "3acb7a86-50cb-449b-8eae-f171d88fe8b8",
   "metadata": {},
   "outputs": [],
   "source": [
    "# create list for first and last digits\n",
    "sum_list = []\n",
    "\n",
    "# loop through each row in text\n",
    "for string in list(df.raw):\n",
    "    # create list to hold counter index values\n",
    "    index_counter = []\n",
    "    # create dictionary to recall numeric values \n",
    "    # at specific index locations\n",
    "    number_lookup = {}\n",
    "    \n",
    "    \n",
    "    # identify numeric numbers\n",
    "    for i, char in enumerate(string):\n",
    "        if char.isnumeric():\n",
    "            number_lookup[i] = char \n",
    "            index_counter.append(i)\n",
    "    \n",
    "    # identify word numeric values\n",
    "    for i in numbers_dict.keys():\n",
    "        if i in string:\n",
    "            # find first occurence first position\n",
    "            first = string.find(i)\n",
    "            # find last occurence last position\n",
    "            last = string.rfind(i)\n",
    "            \n",
    "            # update dictionary \n",
    "            number_lookup[first] = numbers_dict[i]\n",
    "            number_lookup[last + len(i) - 1] = numbers_dict[i]\n",
    "            \n",
    "            # updated list index counter\n",
    "            index_counter.append(first)\n",
    "            index_counter.append(last + len(i) - 1)\n",
    "\n",
    "            \n",
    "    # create list with first and last selected\n",
    "    first_number = str(number_lookup[sorted(index_counter)[0]])\n",
    "    last_number = str(number_lookup[sorted(index_counter)[-1]])\n",
    "    sum_list.append(first_number + last_number)"
   ]
  },
  {
   "cell_type": "code",
   "execution_count": 57,
   "id": "283b86a7-36d1-4fba-9ff2-9ebf8f9943b5",
   "metadata": {},
   "outputs": [
    {
     "data": {
      "text/plain": [
       "53312"
      ]
     },
     "execution_count": 57,
     "metadata": {},
     "output_type": "execute_result"
    }
   ],
   "source": [
    "sum([int(x) for x in sum_list])"
   ]
  },
  {
   "cell_type": "markdown",
   "id": "1731d8da-87bb-43b9-a454-3a86635949fe",
   "metadata": {},
   "source": [
    "## ✅"
   ]
  }
 ],
 "metadata": {
  "kernelspec": {
   "display_name": "Python 3",
   "language": "python",
   "name": "python3"
  },
  "language_info": {
   "codemirror_mode": {
    "name": "ipython",
    "version": 3
   },
   "file_extension": ".py",
   "mimetype": "text/x-python",
   "name": "python",
   "nbconvert_exporter": "python",
   "pygments_lexer": "ipython3",
   "version": "3.9.6"
  }
 },
 "nbformat": 4,
 "nbformat_minor": 5
}
